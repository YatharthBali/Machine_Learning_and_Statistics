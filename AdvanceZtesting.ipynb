{
 "cells": [
  {
   "cell_type": "code",
   "execution_count": 12,
   "id": "2f667c00",
   "metadata": {},
   "outputs": [
    {
     "data": {
      "text/plain": [
       "21.311866724709244"
      ]
     },
     "execution_count": 12,
     "metadata": {},
     "output_type": "execute_result"
    }
   ],
   "source": [
    "import random\n",
    "random.seed(100)\n",
    "weight_loss=[random.uniform(0.5,10) for _ in range(100)]\n",
    "weight_loss\n",
    "import numpy as np\n",
    "smean=np.mean(weight_loss)\n",
    "sstd=np.std(weight_loss,ddof=1)\n",
    "popn_mean=0\n",
    "z_score=(smean-popn_mean)/(sstd/np.sqrt(len(weight_loss)))\n",
    "z_score#calculated value\n"
   ]
  },
  {
   "cell_type": "code",
   "execution_count": 7,
   "id": "689834a8",
   "metadata": {},
   "outputs": [
    {
     "data": {
      "text/plain": [
       "1.6448536269514722"
      ]
     },
     "execution_count": 7,
     "metadata": {},
     "output_type": "execute_result"
    }
   ],
   "source": [
    "#critical value\n",
    "alpha=0.05\n",
    "from scipy.stats import norm\n",
    "critical=norm.ppf(1-alpha)\n",
    "critical\n"
   ]
  },
  {
   "cell_type": "code",
   "execution_count": 13,
   "id": "ff1dcb93",
   "metadata": {},
   "outputs": [
    {
     "data": {
      "text/html": [
       "<div>\n",
       "<style scoped>\n",
       "    .dataframe tbody tr th:only-of-type {\n",
       "        vertical-align: middle;\n",
       "    }\n",
       "\n",
       "    .dataframe tbody tr th {\n",
       "        vertical-align: top;\n",
       "    }\n",
       "\n",
       "    .dataframe thead th {\n",
       "        text-align: right;\n",
       "    }\n",
       "</style>\n",
       "<table border=\"1\" class=\"dataframe\">\n",
       "  <thead>\n",
       "    <tr style=\"text-align: right;\">\n",
       "      <th></th>\n",
       "      <th>Score</th>\n",
       "      <th>School</th>\n",
       "    </tr>\n",
       "  </thead>\n",
       "  <tbody>\n",
       "    <tr>\n",
       "      <th>0</th>\n",
       "      <td>12</td>\n",
       "      <td>1</td>\n",
       "    </tr>\n",
       "    <tr>\n",
       "      <th>1</th>\n",
       "      <td>12</td>\n",
       "      <td>1</td>\n",
       "    </tr>\n",
       "    <tr>\n",
       "      <th>2</th>\n",
       "      <td>56</td>\n",
       "      <td>1</td>\n",
       "    </tr>\n",
       "    <tr>\n",
       "      <th>3</th>\n",
       "      <td>65</td>\n",
       "      <td>2</td>\n",
       "    </tr>\n",
       "    <tr>\n",
       "      <th>4</th>\n",
       "      <td>45</td>\n",
       "      <td>2</td>\n",
       "    </tr>\n",
       "    <tr>\n",
       "      <th>5</th>\n",
       "      <td>34</td>\n",
       "      <td>2</td>\n",
       "    </tr>\n",
       "    <tr>\n",
       "      <th>6</th>\n",
       "      <td>43</td>\n",
       "      <td>3</td>\n",
       "    </tr>\n",
       "    <tr>\n",
       "      <th>7</th>\n",
       "      <td>87</td>\n",
       "      <td>3</td>\n",
       "    </tr>\n",
       "    <tr>\n",
       "      <th>8</th>\n",
       "      <td>81</td>\n",
       "      <td>3</td>\n",
       "    </tr>\n",
       "  </tbody>\n",
       "</table>\n",
       "</div>"
      ],
      "text/plain": [
       "   Score  School\n",
       "0     12       1\n",
       "1     12       1\n",
       "2     56       1\n",
       "3     65       2\n",
       "4     45       2\n",
       "5     34       2\n",
       "6     43       3\n",
       "7     87       3\n",
       "8     81       3"
      ]
     },
     "execution_count": 13,
     "metadata": {},
     "output_type": "execute_result"
    }
   ],
   "source": [
    "#anova\n",
    "import pandas as pd\n",
    "import numpy as np\n",
    "df=pd.DataFrame({'Score':[12,12,56,65,45,34,43,87,81],\n",
    "             'School':[1,1,1,2,2,2,3,3,3]})\n",
    "df"
   ]
  },
  {
   "cell_type": "code",
   "execution_count": 16,
   "id": "68a6349f",
   "metadata": {},
   "outputs": [
    {
     "data": {
      "text/plain": [
       "2.9356898517673886"
      ]
     },
     "execution_count": 16,
     "metadata": {},
     "output_type": "execute_result"
    }
   ],
   "source": [
    "groups=[df['Score'][df['School']==school] for school in df['School'].unique()]\n",
    "from scipy.stats import f_oneway\n",
    "f_stats,pval=f_oneway(*groups)\n",
    "f_stats\n"
   ]
  },
  {
   "cell_type": "code",
   "execution_count": null,
   "id": "0a5e09cd",
   "metadata": {},
   "outputs": [],
   "source": []
  }
 ],
 "metadata": {
  "kernelspec": {
   "display_name": "Python 3 (ipykernel)",
   "language": "python",
   "name": "python3"
  },
  "language_info": {
   "codemirror_mode": {
    "name": "ipython",
    "version": 3
   },
   "file_extension": ".py",
   "mimetype": "text/x-python",
   "name": "python",
   "nbconvert_exporter": "python",
   "pygments_lexer": "ipython3",
   "version": "3.11.7"
  }
 },
 "nbformat": 4,
 "nbformat_minor": 5
}
